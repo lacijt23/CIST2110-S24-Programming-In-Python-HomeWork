{
 "cells": [
  {
   "cell_type": "markdown",
   "metadata": {},
   "source": [
    "# HW 7\n",
    "Name: Laci Trull"
   ]
  },
  {
   "cell_type": "markdown",
   "metadata": {},
   "source": [
    "In class I showed how to curl the data from the web. We are going to start by using python requests to do the same."
   ]
  },
  {
   "cell_type": "code",
   "execution_count": 30,
   "metadata": {},
   "outputs": [],
   "source": [
    "# Here is the link to gutenbegers Treasure Island\n",
    "# https://gutenberg.org/cache/epub/120/pg120.txt\n",
    "\n",
    "# use python requests to get the text from the url and save it to a variable called book\n",
    "# first you will need to import requests (you might need to install it first with pip)\n",
    "\n",
    "\n",
    "\n",
    "\n",
    "# print the status code to make sure it was successful (200)\n",
    "\n",
    "\n",
    "\n",
    "# Save the test to a file called treasure_island.txt\n",
    "# Hint: you can use the open() function to create a new file and write to it with the write() method\n",
    "# Hint 2: you can use book.text to get the text from the request\n",
    "\n",
    "\n",
    "# If all was successful you should have a new file in the same directory called treasure_island.txt"
   ]
  },
  {
   "cell_type": "markdown",
   "metadata": {},
   "source": [
    "Lets do some cleaning of the data like we did in class to get rid of the header and footer."
   ]
  },
  {
   "cell_type": "code",
   "execution_count": 31,
   "metadata": {},
   "outputs": [],
   "source": [
    "# first import the treasure_island.txt file using the open() function and save it to a variable called text\n",
    "import requests\n",
    "url = \"https://gutenberg.org/cache/epub/120/pg120.txt\"\n",
    "\n",
    "with open (\"treasure_island.txt\", \"w\") as file:\n",
    "    book = requests.get(url)\n",
    "text = book.text \n",
    "    \n",
    "# print the first 1000 characters of the book to make sure it was imported correctly (using string splicing)\n",
    "\n",
    "\n",
    "# notice the *** START OF THE PROJECT GUTENBERG EBOOK TREASURE ISLAND ***\n",
    "# the US version of guttenberg books have this *** START OF THE PROJECT GUTENBERG EBOOK {bookname} *** at the beginning \n",
    "# They also have *** END OF THE PROJECT GUTENBERG EBOOK {bookname}*** at the end\n",
    "# using this information find the index of the start and end of the book and save the text between them to a new variable\n",
    "# Hint: you can use the find() method to find the index of a string within another string\n",
    "# Hint 2: you can use string splicing to get the text between two indexes\n",
    "def remove_header_footer(text):\n",
    "    start = text.find(\"*** START OF THE PROJECT GUTENBERG EBOOK TREASURE ISLAND ***\")\n",
    "    end = text.find(\"*** END OF THE PROJECT GUTENBERG EBOOK TREASURE ISLAND ***\")\n",
    "    return text[start:end]\n",
    "text = remove_header_footer(text)\n",
    "\n"
   ]
  },
  {
   "cell_type": "code",
   "execution_count": 32,
   "metadata": {},
   "outputs": [
    {
     "name": "stdout",
     "output_type": "stream",
     "text": [
      "*** START OF THE PROJECT GUTENBERG EBOOK TREASURE ISLAND ***\n",
      "TREASURE ISLAND\n",
      "\n",
      "by Robert Louis Stevenson\n",
      "\n",
      "\n",
      "\n",
      "\n",
      "TREASURE ISLAND\n",
      "\n",
      "To S.L.O., an American gentleman in accordance with whose classic taste\n",
      "the following narrative has been designed, it is now, in return for\n",
      "numerous delightful hours, and with the kindest wishes, dedicated by his\n",
      "affectionate friend, the author.\n",
      "\n",
      "\n",
      "\n",
      "               TO THE HESITATING PURCHASER\n",
      "\n",
      "               If sailor tales to sailor tunes,\n",
      "                  Storm and adventure, heat and cold,\n",
      "               If schooners, islands, and maroons,\n",
      "                  And buccaneers, and buried gold,\n",
      "               And all the old romance, retold\n",
      "                  Exactly in the ancient way,\n",
      "               Can please, as me they pleased of old,\n",
      "                  The wiser youngsters of today:\n",
      "\n",
      "               --So be it, and fall on!  If not,\n",
      "                  If studious youth no longer crave,\n",
      "               His ancient appetites forgot,\n",
      "   \n"
     ]
    }
   ],
   "source": [
    "# print the first 1000 characters of the book_text to make sure you have the correct text\n",
    "print(text[:1000])"
   ]
  },
  {
   "cell_type": "code",
   "execution_count": 33,
   "metadata": {},
   "outputs": [
    {
     "name": "stdout",
     "output_type": "stream",
     "text": [
      "PART ONE--The Old Buccaneer\n",
      "\n",
      "\n",
      "\n",
      "\n",
      "I\n",
      "The Old Sea-dog at the Admiral Benbow\n",
      "\n",
      "\n",
      "Squire Trelawney, Dr. Livesey, and the rest of these gentlemen having\n",
      "asked me to write down the whole particulars about Treasure Island, from\n",
      "the beginning to the end, keeping nothing back but the bearings of the\n",
      "island, and that only because there is still treasure not yet lifted, I\n",
      "take up my pen in the year of grace 17—, and go back to the time when\n",
      "my father kept the Admiral Benbow inn and the brown old seaman with the\n",
      "sabre cut first took up his lodging under our roof.\n",
      "\n",
      "I remember him as if it were yesterday, as he came plodding to the\n",
      "inn door, his sea-chest following behind him in a hand-barrow--a\n",
      "tall, strong, heavy, nut-brown man, his tarry pigtail falling over the\n",
      "shoulder of his soiled blue coat, his hands ragged and scarred, with\n",
      "black, broken nails, and the sabre cut across one cheek, a dirty, livid\n",
      "white. I remember him looking round the cove and whistling to himself\n",
      "as he di\n"
     ]
    }
   ],
   "source": [
    "# Were close but we need the remove the table of contents at the beginning of the book. Right after the table of contents \n",
    "# you will see \"PART ONE--The Old Buccaneer\" you can use that to find the start of the book\n",
    "# find the index of \"PART ONE--The Old Buccaneer\" and save the text from that index to the end of the book to a new variable\n",
    "def remove_table_of_contents(text):\n",
    "    start = text.find(\"PART ONE--The Old Buccaneer\")\n",
    "    end = text.find(\"*** END OF THE PROJECT GUTENBERG EBOOK TREASURE ISLAND ***\")\n",
    "    return text[start:]\n",
    "text = remove_table_of_contents(text)\n",
    "# Hint: you can use the find() method to find the index of a string within another string\n",
    "# Hint 2: The end of the book is already defined by the *** END OF THE PROJECT GUTENBERG EBOOK TREASURE ISLAND *** variable \n",
    "# Hint 3: you can use string splicing to get the text between two indexes\n",
    "\n",
    "\n",
    "\n",
    "# print the first 1000 characters of the text to make sure you have the correct text\n",
    "print(text[:1000])"
   ]
  },
  {
   "cell_type": "code",
   "execution_count": 34,
   "metadata": {},
   "outputs": [],
   "source": [
    "# For the final step lets make sure the text is in lowercase and remove all the new line characters (\\n)\n",
    "# save the final text to a variable called clean_text\n",
    "# Hint: you can use the replace() method to remove characters from a string\n",
    "# Hint 2: you can use the lower() method to make all the characters in a string lowercase\n",
    "# Hint 3: you can combine the replace() and lower() methods to remove all the new line characters and make the text lowercase\n",
    "replace = text.replace(\"\\n\", \"\")\n",
    "lower = text.lower()\n",
    "clean_text = lower\n",
    "\n",
    "\n"
   ]
  },
  {
   "cell_type": "markdown",
   "metadata": {},
   "source": [
    "At this point you should have the full clean text of the book without the table of contents at the beginning and the end of the book. Lets now do some analysis of the text."
   ]
  },
  {
   "cell_type": "code",
   "execution_count": 35,
   "metadata": {},
   "outputs": [
    {
     "name": "stdout",
     "output_type": "stream",
     "text": [
      "44\n",
      "58\n"
     ]
    }
   ],
   "source": [
    "# Show how many times the word \"treasure\" is used in the book\n",
    "from collections import Counter\n",
    "text\n",
    "print(text.count(\"treasure\"))\n",
    "\n",
    "\n",
    "# Show how many times the word \"island\" is used in the book\n",
    "print(text.count(\"island\"))\n"
   ]
  },
  {
   "cell_type": "code",
   "execution_count": 59,
   "metadata": {},
   "outputs": [],
   "source": [
    "# What is the total number of words in Chapter xii? Remember we did a lower case on the text so you will need to search for chapter xii not XII \n",
    "# Hint: To get just the text from Chapter xiiiyou can use slicing between the start and end of the chapter\n",
    "# Hint 2: To find the start of Chapter xiiiyou can use the find() method to find the index of the chapter title\n",
    "# Hint 3: To find the end of Chapter xiiiyou can use the find() method to find the index of the next chapter title (xiii)\n",
    "# Hint 4: You can use the split() method to get a list of all the words in the chapter\n",
    "# Hint 5: You can use the len() method to get the total number of words in the chapter\n",
    "text\n",
    "def chapter_xii_word_count(text):\n",
    "    start = text.find(\"chapter xii\")\n",
    "    end = text.find(\"chapter xiii\")\n",
    "    chapter = text[start:end]\n",
    "    return len(chapter.split())"
   ]
  },
  {
   "cell_type": "code",
   "execution_count": null,
   "metadata": {},
   "outputs": [],
   "source": [
    "# EXTRA CREDIT\n",
    "# Find the total number of unique words in the chapter\n",
    "\n",
    "\n"
   ]
  }
 ],
 "metadata": {
  "kernelspec": {
   "display_name": "venv",
   "language": "python",
   "name": "python3"
  },
  "language_info": {
   "codemirror_mode": {
    "name": "ipython",
    "version": 3
   },
   "file_extension": ".py",
   "mimetype": "text/x-python",
   "name": "python",
   "nbconvert_exporter": "python",
   "pygments_lexer": "ipython3",
   "version": "3.12.1"
  }
 },
 "nbformat": 4,
 "nbformat_minor": 2
}
